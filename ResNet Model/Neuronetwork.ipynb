{
 "cells": [
  {
   "cell_type": "code",
   "execution_count": 1,
   "metadata": {},
   "outputs": [],
   "source": [
    "# initialisation to set the number of input, hidden and output nodes\n",
    "# ● train refine the weights after being given a training set example to learn from\n",
    "# ● query give an answer from the output nodes after being given an input\n",
    "\n",
    "\n",
    "\n"
   ]
  },
  {
   "cell_type": "code",
   "execution_count": 1,
   "metadata": {},
   "outputs": [],
   "source": [
    "#initialize the neuro network\n",
    "import numpy as numpy\n",
    "import scipy.special\n",
    "class NeuroNetwork:\n",
    "    \n",
    "    def __init__(self, inputnodes, hiddennodes, outputnodes, learningrate):\n",
    "        self.inodes = inputnodes\n",
    "        self.hnodes = hiddennodes\n",
    "        self.onodes = outputnodes\n",
    "        \n",
    "        #learning rate\n",
    "        self.lr = learningrate\n",
    "        \n",
    "        self.wih = (numpy.random.rand(self.hnodes,self.inodes)-0.5)\n",
    "        #W = 0.1* np.random.randn(D,H)\n",
    "        self.who = (numpy.random.rand(self.onodes,self.hnodes)-0.5)\n",
    "        #activation function\n",
    "        self.activation_function = lambda x: scipy.special.expit(x)\n",
    "        pass\n",
    "    #train your data\n",
    "    def train(self,inputs_list,targets_list):\n",
    "        #convert inputs list to 2d array\n",
    "        inputs = numpy.array(inputs_list,ndmin=2).T\n",
    "        targets = numpy.array(targets_list,ndmin=2).T\n",
    "\n",
    "        \n",
    "        #calculate the signals into the hidden layer\n",
    "        hidden_inputs = numpy.dot(self.wih,inputs)\n",
    "        hidden_outputs = self.activation_function(hidden_inputs)\n",
    "\n",
    "        \n",
    "        #calculate signals intot he final output layer\n",
    "        final_inputs = numpy.dot(self.who,hidden_outputs)\n",
    "        final_outputs = self.activation_function(final_inputs)\n",
    "        \n",
    "        #output erros\n",
    "        output_errors = targets-final_outputs\n",
    "        \n",
    "        #calculating the back-propagated errors or the hidden layers nodes.\n",
    "        #errors_hidden = weight_hidden_output.T - output_erros\n",
    "        \n",
    "        #backpropagating\n",
    "        \n",
    "        hidden_errors = numpy.dot(self.who.T,output_errors)\n",
    "        \n",
    "         # update the weights for the links between the hidden and output layers\n",
    "        self.who += self.lr * numpy.dot((output_errors * final_outputs * (1.0 - final_outputs)), numpy.transpose(hidden_outputs))\n",
    "        \n",
    "        # update the weights for the links between the input and hidden layers\n",
    "        self.wih += self.lr * numpy.dot((hidden_errors * hidden_outputs * (1.0 - hidden_outputs)), numpy.transpose(inputs))\n",
    "        \n",
    "        \n",
    "        pass\n",
    " \n",
    "\n",
    "    def sigmoid(a):\n",
    "        return 1 / (1 + numpy.exp(-a))\n",
    "    \n",
    "    def sigmoid_prime(x):\n",
    "        return x*(1.0-x)\n",
    "\n",
    "    \n",
    "    #query the neural network\n",
    "    def query(self,inputs_list):\n",
    "        #convert inputs list to 2d array\n",
    "        inputs = numpy.array(inputs_list,ndmin=2).T\n",
    "        \n",
    "        #calculate the signals into the hidden layer\n",
    "        hidden_inputs = numpy.dot(self.wih,inputs)\n",
    "        \n",
    "        #calculate the signals emerginf from hidden layer\n",
    "#         hidden_outputs = sigmoid(hidden_inputs)\n",
    "        hidden_outputs = self.activation_function(hidden_inputs)\n",
    "\n",
    "        \n",
    "        #calculate signals intot he final output layer\n",
    "        final_inputs = numpy.dot(self.who,hidden_outputs)\n",
    "        #calculate the signals emrtging from the final outputs\n",
    "#         final_outputs = sigmoid(final_inputs)\n",
    "        final_outputs = self.activation_function(final_inputs)\n",
    "        \n",
    "        return final_outputs\n"
   ]
  },
  {
   "cell_type": "code",
   "execution_count": 2,
   "metadata": {},
   "outputs": [],
   "source": [
    "#number of input, hidden, and output nodes\n",
    "input_nodes = 784\n",
    "hidden_nodes = 200\n",
    "output_nodes = 10 "
   ]
  },
  {
   "cell_type": "code",
   "execution_count": null,
   "metadata": {},
   "outputs": [],
   "source": [
    "\"\"\"\n",
    "for each file in ../Generator/output:\n",
    "    with open(file, 'r') as f:\n",
    "        data_list.append(jpg.parse(f))\n",
    "        if f.name not in labels:\n",
    "           labels.append(f.name)\n",
    "\"\"\""
   ]
  },
  {
   "cell_type": "code",
   "execution_count": 12,
   "metadata": {},
   "outputs": [
    {
     "data": {
      "text/plain": [
       "784"
      ]
     },
     "execution_count": 12,
     "metadata": {},
     "output_type": "execute_result"
    }
   ],
   "source": [
    "input_nodes"
   ]
  },
  {
   "cell_type": "code",
   "execution_count": 19,
   "metadata": {},
   "outputs": [
    {
     "data": {
      "text/plain": [
       "array([[ 0.47700713, -1.88279861, -0.62541591, -0.25131254, -0.21935739],\n",
       "       [ 1.01924778, -2.31023972, -0.88742301, -1.62682328, -0.26566537],\n",
       "       [-1.14514412,  0.21658726,  0.73854138, -1.28905776, -1.37216351]])"
      ]
     },
     "execution_count": 19,
     "metadata": {},
     "output_type": "execute_result"
    }
   ],
   "source": [
    "numpy.random.randn(3,5)-0.5"
   ]
  },
  {
   "cell_type": "code",
   "execution_count": 3,
   "metadata": {},
   "outputs": [],
   "source": [
    "#learning rate will be 0.3\n",
    "learning_rate = 0.3"
   ]
  },
  {
   "cell_type": "code",
   "execution_count": 4,
   "metadata": {},
   "outputs": [],
   "source": [
    "n = NeuroNetwork(input_nodes,hidden_nodes,output_nodes,learning_rate)"
   ]
  },
  {
   "cell_type": "code",
   "execution_count": 5,
   "metadata": {},
   "outputs": [],
   "source": [
    "#load the mnist training data CSV file into a list\n",
    "data_file = open(\"mnist_train.csv\",'r')\n",
    "data_list = data_file.readlines()\n",
    "data_file.close()"
   ]
  },
  {
   "cell_type": "code",
   "execution_count": 6,
   "metadata": {},
   "outputs": [],
   "source": [
    "#train the neural network"
   ]
  },
  {
   "cell_type": "code",
   "execution_count": 8,
   "metadata": {},
   "outputs": [],
   "source": [
    "\n",
    "# train the neural network\n",
    "labels = [each file name] (10)\n",
    "data_list = [\n",
    "    [pixel data from file]\n",
    "]\n",
    "\n",
    "targets = [\n",
    "    [0.01, 0.01, 0.01, 0.01, 0.01, 0.01, 0.01, 0.01, 0.01, 0.99] (10)\n",
    "]\n",
    "# epochs is the number of times the training data set is used for training\n",
    "epochs = 2\n",
    "\n",
    "for e in range(epochs):\n",
    "    # go through all records in the training data set\n",
    "    for record in data_list:\n",
    "        # split the record by the ',' commas\n",
    "        all_values = record.split(',')\n",
    "        # scale and shift the inputs\n",
    "        inputs = (numpy.asfarray(all_values[1:]) / 255.0 * 0.99) + 0.01\n",
    "        # create the target output values (all 0.01, except the desired label which is 0.99)\n",
    "        targets = numpy.zeros(output_nodes) + 0.01\n",
    "        # all_values[0] is the target label for this record\n",
    "        targets[int(all_values[0])] = 0.99\n",
    "        n.train(inputs, targets)\n",
    "        pass\n",
    "    pass"
   ]
  },
  {
   "cell_type": "code",
   "execution_count": 9,
   "metadata": {},
   "outputs": [],
   "source": [
    "# load the mnist test data CSV file into a list\n",
    "test_data_file = open(\"mnist_test.csv\", 'r')\n",
    "test_data_list = test_data_file.readlines()\n",
    "test_data_file.close()"
   ]
  },
  {
   "cell_type": "code",
   "execution_count": 10,
   "metadata": {},
   "outputs": [],
   "source": [
    " #test the neural network\n",
    "\n",
    "# scorecard for how well the network performs, initially empty\n",
    "scorecard = []\n",
    "\n",
    "# go through all the records in the test data set\n",
    "for record in test_data_list:\n",
    "    # split the record by the ',' commas\n",
    "    all_values = record.split(',')\n",
    "    # correct answer is first value\n",
    "    correct_label = int(all_values[0])\n",
    "    # scale and shift the inputs\n",
    "    inputs = (numpy.asfarray(all_values[1:]) / 255.0 * 0.99) + 0.01\n",
    "    # query the network\n",
    "    outputs = n.query(inputs)\n",
    "    # the index of the highest value corresponds to the label\n",
    "    label = numpy.argmax(outputs)\n",
    "    # append correct or incorrect to list\n",
    "    if (label == correct_label):\n",
    "        # network's answer matches correct answer, add 1 to scorecard\n",
    "        scorecard.append(1)\n",
    "    else:\n",
    "        # network's answer doesn't match correct answer, add 0 to scorecard\n",
    "        scorecard.append(0)\n",
    "        pass\n",
    "    \n",
    "    pass"
   ]
  },
  {
   "cell_type": "code",
   "execution_count": 11,
   "metadata": {},
   "outputs": [
    {
     "name": "stdout",
     "output_type": "stream",
     "text": [
      "performance =  0.958\n"
     ]
    }
   ],
   "source": [
    "\n",
    "# calculate the performance score, the fraction of correct answers\n",
    "scorecard_array = numpy.asarray(scorecard)\n",
    "print (\"performance = \", scorecard_array.sum() / scorecard_array.size)"
   ]
  },
  {
   "cell_type": "code",
   "execution_count": null,
   "metadata": {},
   "outputs": [],
   "source": []
  }
 ],
 "metadata": {
  "kernelspec": {
   "display_name": "Python 3",
   "language": "python",
   "name": "python3"
  },
  "language_info": {
   "codemirror_mode": {
    "name": "ipython",
    "version": 3
   },
   "file_extension": ".py",
   "mimetype": "text/x-python",
   "name": "python",
   "nbconvert_exporter": "python",
   "pygments_lexer": "ipython3",
   "version": "3.5.3"
  }
 },
 "nbformat": 4,
 "nbformat_minor": 4
}
