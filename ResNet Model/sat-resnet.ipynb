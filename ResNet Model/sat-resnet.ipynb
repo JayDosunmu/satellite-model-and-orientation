{
 "cells": [
  {
   "cell_type": "markdown",
   "metadata": {},
   "source": [
    "# Satellite Model and Orientation\n",
    "Remove this after completing thus after completing the pattern below\n",
    "## Packages"
   ]
  },
  {
   "cell_type": "code",
   "execution_count": 3,
   "metadata": {},
   "outputs": [
    {
     "name": "stdout",
     "output_type": "stream",
     "text": [
      "The autoreload extension is already loaded. To reload it, use:\n",
      "  %reload_ext autoreload\n"
     ]
    }
   ],
   "source": [
    "%load_ext autoreload\n",
    "%autoreload 2"
   ]
  },
  {
   "cell_type": "code",
   "execution_count": 5,
   "metadata": {},
   "outputs": [],
   "source": [
    "import cv2\n",
    "import os\n",
    "import wandb\n",
    "import pathlib\n",
    "import callbacks\n",
    "import numpy as np\n",
    "import seaborn as sn\n",
    "import tensorflow as tf\n",
    "from itertools import product\n",
    "#from tqdm.notebook import tqdm\n",
    "import matplotlib.pyplot as plt\n",
    "from callbacks import WandbBatchHistory\n",
    "from sklearn.metrics import classification_report, confusion_matrix"
   ]
  },
  {
   "cell_type": "markdown",
   "metadata": {},
   "source": [
    "### Verify GPU Connection"
   ]
  },
  {
   "cell_type": "code",
   "execution_count": 6,
   "metadata": {},
   "outputs": [
    {
     "name": "stdout",
     "output_type": "stream",
     "text": [
      "Num GPUs Available:  0\n"
     ]
    }
   ],
   "source": [
    "print(\"Num GPUs Available: \", len(tf.config.experimental.list_physical_devices('GPU')))"
   ]
  },
  {
   "cell_type": "markdown",
   "metadata": {},
   "source": [
    "## Constants"
   ]
  },
  {
   "cell_type": "code",
   "execution_count": 4,
   "metadata": {},
   "outputs": [
    {
     "data": {
      "text/plain": [
       "['cloudsat', 'ACRIMSAT', 'agena', 'chandra', 'MGS', 'aqua', 'Deep']"
      ]
     },
     "execution_count": 4,
     "metadata": {},
     "output_type": "execute_result"
    }
   ],
   "source": [
    "image_dir = '../Synthetic Data Generator/processed/Dataset/training'\n",
    "IMAGE_DIR = pathlib.Path(image_dir)\n",
    "CLASS_NAMES = list(filter(lambda x: x != '.DS_Store', os.listdir(image_dir)))\n",
    "IMAGE_COUNT = len(list(IMAGE_DIR.glob('*/*.png')))\n",
    "\n",
    "\n",
    "VALIDATION_RATIO=0.2\n",
    "TRAIN_RATIO=0.8\n",
    "\n",
    "VALIDATION_DS_SIZE=int(IMAGE_COUNT * VALIDATION_RATIO)\n",
    "TRAIN_DS_SIZE=int(IMAGE_COUNT * TRAIN_RATIO)\n",
    "\n",
    "BATCH_SIZE = 16\n",
    "STEPS_PER_EPOCH = int(np.ceil(TRAIN_DS_SIZE/BATCH_SIZE))\n",
    "VALIDATION_STEPS_PER_EPOCH = int(np.ceil(VALIDATION_DS_SIZE/BATCH_SIZE))\n",
    "AUTOTUNE = tf.data.experimental.AUTOTUNE\n",
    "CLASS_NAMES"
   ]
  },
  {
   "cell_type": "markdown",
   "metadata": {},
   "source": [
    "## Dataset Generation Pattern\n",
    "Go to the tf.data section and follow along: https://www.tensorflow.org/tutorials/load_data/images\n",
    "Stop at the performance section. Let's train this only on the classes with full samples that I had mentioned in slack. "
   ]
  },
  {
   "cell_type": "code",
   "execution_count": 5,
   "metadata": {},
   "outputs": [],
   "source": [
    "def get_label(file_path):\n",
    "    parts = tf.strings.split(file_path, os.path.sep)\n",
    "    return parts[-2] == CLASS_NAMES"
   ]
  },
  {
   "cell_type": "code",
   "execution_count": 6,
   "metadata": {},
   "outputs": [],
   "source": [
    "def decode_img(img):\n",
    "    img = tf.image.decode_png(img, channels=3)\n",
    "    img = tf.image.convert_image_dtype(img, tf.float32)\n",
    "    \n",
    "    #####  IMAGE BLURRING GOES HERE #####\n",
    "    # Apply the komlogrov filter to the #\n",
    "    # img variable.                     #\n",
    "    #####################################\n",
    "    \n",
    "    return img"
   ]
  },
  {
   "cell_type": "code",
   "execution_count": 7,
   "metadata": {},
   "outputs": [],
   "source": [
    "def process_file(file_path):\n",
    "    label = get_label(file_path)\n",
    "    \n",
    "    img = tf.io.read_file(file_path)\n",
    "    img = decode_img(img)\n",
    "\n",
    "    return img, label"
   ]
  },
  {
   "cell_type": "code",
   "execution_count": 8,
   "metadata": {},
   "outputs": [],
   "source": [
    "def prepare_for_training(ds, cache=True, shuffle_buffer_size=1000):\n",
    "    # This is a small dataset, only load it once, and keep it in memory.\n",
    "    # use `.cache(filename)` to cache preprocessing work for datasets that don't\n",
    "    # fit in memory.\n",
    "    if cache:\n",
    "        if isinstance(cache, str):\n",
    "            ds = ds.cache(cache)\n",
    "    else:\n",
    "        ds = ds.cache()\n",
    "\n",
    "    ds = ds.shuffle(buffer_size=shuffle_buffer_size)\n",
    "    \n",
    "    # Repeat forever\n",
    "    ds = ds.repeat()\n",
    "\n",
    "    ds = ds.batch(BATCH_SIZE)\n",
    "\n",
    "    # `prefetch` lets the dataset fetch batches in the background while the model\n",
    "    # is training.\n",
    "    ds = ds.prefetch(buffer_size=AUTOTUNE)\n",
    "\n",
    "    return ds"
   ]
  },
  {
   "cell_type": "code",
   "execution_count": 9,
   "metadata": {},
   "outputs": [],
   "source": [
    "ds_files = tf.data.Dataset.list_files(str(IMAGE_DIR/'*/*.png'))\n",
    "labeled_ds = ds_files.map(process_file, num_parallel_calls=AUTOTUNE)\n",
    "\n",
    "full_dataset = prepare_for_training(labeled_ds)\n",
    "\n",
    "train_ds = full_dataset.take(TRAIN_DS_SIZE)\n",
    "validation_ds = full_dataset.skip(TRAIN_DS_SIZE)"
   ]
  },
  {
   "cell_type": "code",
   "execution_count": 10,
   "metadata": {},
   "outputs": [
    {
     "data": {
      "text/plain": [
       "<PrefetchDataset shapes: ((None, None, None, 3), (None, 7)), types: (tf.float32, tf.bool)>"
      ]
     },
     "execution_count": 10,
     "metadata": {},
     "output_type": "execute_result"
    }
   ],
   "source": [
    "train_ds.prefetch(BATCH_SIZE)\n",
    "validation_ds.prefetch(BATCH_SIZE)"
   ]
  },
  {
   "cell_type": "code",
   "execution_count": 11,
   "metadata": {},
   "outputs": [],
   "source": [
    "# Generate a new training batch\n",
    "tr_image_batch, tr_label_batch = next(iter(train_ds))"
   ]
  },
  {
   "cell_type": "markdown",
   "metadata": {},
   "source": [
    "### Peek at the Dataset"
   ]
  },
  {
   "cell_type": "code",
   "execution_count": 12,
   "metadata": {},
   "outputs": [
    {
     "data": {
      "image/png": "[encoded data removed]",
      "text/plain": [
       "<Figure size 720x720 with 16 Axes>"
      ]
     },
     "metadata": {
      "needs_background": "light"
     },
     "output_type": "display_data"
    }
   ],
   "source": [
    "def show_batch(image_batch, label_batch):\n",
    "    plt.figure(figsize=(10,10))\n",
    "    for n in range(BATCH_SIZE):\n",
    "        ax = plt.subplot(4,4,n+1)\n",
    "        plt.imshow(image_batch[n])\n",
    "        plt.title(tf.boolean_mask(CLASS_NAMES, label_batch[n])[0].numpy().decode())\n",
    "        plt.axis('off')\n",
    "\n",
    "show_batch(tr_image_batch.numpy(), tr_label_batch.numpy())"
   ]
  },
  {
   "cell_type": "markdown",
   "metadata": {},
   "source": [
    "## Wandb Bayesian Search"
   ]
  },
  {
   "cell_type": "markdown",
   "metadata": {},
   "source": [
    "Key is already saved in secret directory"
   ]
  },
  {
   "cell_type": "code",
   "execution_count": 13,
   "metadata": {},
   "outputs": [
    {
     "data": {
      "text/plain": [
       "True"
      ]
     },
     "execution_count": 13,
     "metadata": {},
     "output_type": "execute_result"
    }
   ],
   "source": [
    "wandb.login()"
   ]
  },
  {
   "cell_type": "markdown",
   "metadata": {},
   "source": [
    "### Define the Sweep Config\n",
    "Ryan will add all the sweep stuff here later. For now you can just throw whatever into here for the hyperparameters"
   ]
  },
  {
   "cell_type": "code",
   "execution_count": 29,
   "metadata": {},
   "outputs": [],
   "source": [
    "sweep_config = {\n",
    "    \"name\": \"Artemis\",\n",
    "    \"method\": \"grid\",\n",
    "    #\"metric\": {\n",
    "    #    \"name\" : \"val_loss\",\n",
    "    #    \"goal\" : \"minimize\"\n",
    "    #},\n",
    "    \"parameters\" : {\n",
    "        \"learning_rate\" : {\n",
    "            \"values\" : [1e-2, 1e-3, 1e-4]\n",
    "        },\n",
    "        \"epochs\" : {\n",
    "            \"values\" : [5, 10, 15, 20]\n",
    "        },\n",
    "        \"dropout_ly1\" : {\n",
    "            #\"min\"  : 3.0,\n",
    "            #\"max\" : 7.0\n",
    "            \"values\" : [0.4, 0.5, 0.6, 0.7]\n",
    "        },\n",
    "        \"dropout_ly2\" : {\n",
    "            #\"min\"  : 3.0,\n",
    "            #\"max\" : 7.0\n",
    "            \"values\" : [0.4, 0.5, 0.6, 0.7]\n",
    "        }, \n",
    "        \"hidden_ly1\" : {\n",
    "            \"values\" : [256, 512, 1024]\n",
    "        },\n",
    "        \"hidden_ly2\" : {\n",
    "            \"values\" : [256, 512, 1024]\n",
    "        },\n",
    "        \"optimizer\" : {\n",
    "            \"values\" : [\"adam\", \"rmsprop\", \"sgd\"]\n",
    "        },\n",
    "        \"activation\" : {\n",
    "            \"values\" : [\"relu\", \"tanh\", \"sigmoid\"]\n",
    "        }\n",
    "    }\n",
    "}"
   ]
  },
  {
   "cell_type": "markdown",
   "metadata": {},
   "source": [
    "## Initialize the Sweep ID"
   ]
  },
  {
   "cell_type": "code",
   "execution_count": 26,
   "metadata": {},
   "outputs": [
    {
     "name": "stdout",
     "output_type": "stream",
     "text": [
      "Create sweep with ID: b95eyd9d\n",
      "Sweep URL: https://app.wandb.ai/rosenblatt/satellite-model-and-orientation/sweeps/b95eyd9d\n"
     ]
    }
   ],
   "source": [
    "sweep_id = wandb.sweep(sweep_config, project=\"satellite-model-and-orientation\")"
   ]
  },
  {
   "cell_type": "markdown",
   "metadata": {},
   "source": [
    "## TensorFlow ResNet\n",
    "### Create the Model"
   ]
  },
  {
   "cell_type": "code",
   "execution_count": 16,
   "metadata": {},
   "outputs": [],
   "source": [
    "def build_finetune_model(base_model, dropouts, fc_layers, activation, num_classes):\n",
    "\n",
    "    x = base_model.output\n",
    "    x = tf.keras.layers.Flatten()(x)\n",
    "\n",
    "    for fc, drop in zip(fc_layers, dropouts):\n",
    "        x = tf.keras.layers.Dense(fc, activation=activation)(x) \n",
    "        x = tf.keras.layers.Dropout(drop)(x)\n",
    "\n",
    "    predictions = tf.keras.layers.Dense(num_classes, activation='softmax')(x)\n",
    "    \n",
    "    return tf.keras.Model(inputs=base_model.input, outputs=predictions)"
   ]
  },
  {
   "cell_type": "code",
   "execution_count": 17,
   "metadata": {},
   "outputs": [],
   "source": [
    "#We will ignore this for now\n",
    "def build_fixed_model(base_model, dropouts, fc_layers, activation, num_classes):\n",
    "    \n",
    "    for layer in base_model.layers:\n",
    "        layer.trainable = False\n",
    "\n",
    "    return build_finetune_model(base_model, dropouts, fc_layers, activation, num_classes)"
   ]
  },
  {
   "cell_type": "markdown",
   "metadata": {},
   "source": [
    "## Setup the Model Traning Function\n",
    "Make sure to add the generator to the x value in the fit function"
   ]
  },
  {
   "cell_type": "code",
   "execution_count": 79,
   "metadata": {},
   "outputs": [],
   "source": [
    "def train(config=None, group=None):\n",
    "    # Set up your default hyperparameters before wandb.init\n",
    "    # so they get properly set in the sweep\n",
    "\n",
    "    \"\"\"\n",
    "    hyperparameter_defaults = dict(\n",
    "        learning_rate = 1e-4,\n",
    "        epochs = 10,\n",
    "        dropout_ly1 = 0.5,\n",
    "        dropout_ly2 = 0.5,\n",
    "        hidden_ly1 = 1024,\n",
    "        hidden_ly2 = 1024,\n",
    "        optimizer = \"adam\",\n",
    "        activation = \"relu\"\n",
    "    )\n",
    "    \"\"\"\n",
    "    \n",
    "    hyperparameter_defaults = {\n",
    "        \"learning_rate\" : 1e-4,\n",
    "        \"epochs\" : 10,\n",
    "        \"dropout\" : 0.5,\n",
    "        \"hidden\" : 1024,\n",
    "        \"optimizer\" : \"adam\",\n",
    "        \"activation\" : \"relu\",\n",
    "        \"model\" : \"ResNet\"\n",
    "    }\n",
    "    \n",
    "    \n",
    "    # Pass your defaults to wandb.init\n",
    "    if config is None:\n",
    "        config = hyperparameter_defaults\n",
    "        \n",
    "    wandb.init(config=config, group=group)\n",
    "    \n",
    "    \n",
    "    # If sweeping, grab sweep configuration\n",
    "    # config = wandb.config\n",
    "    \n",
    "    \n",
    "    # will sweep models eventually\n",
    "    if config['model'] == 'ResNet':\n",
    "        model = tf.keras.applications.resnet.ResNet50(include_top=False, \n",
    "                                                      weights='imagenet', \n",
    "                                                      input_shape=(224,224,3), \n",
    "                                                      classes=len(CLASS_NAMES))\n",
    "    elif config['model'] == 'VGG':\n",
    "        model = tf.keras.applications.vgg16.VGG16(include_top=False, \n",
    "                                                      weights='imagenet', \n",
    "                                                      input_shape=(224,224,3), \n",
    "                                                      classes=len(CLASS_NAMES))\n",
    "\n",
    "    # build the model\n",
    "    \"\"\"\n",
    "    model = build_finetune_model(model, \n",
    "                                 [config['dropout_ly1'], config['dropout_ly2']], \n",
    "                                 [config['hidden_ly1'], config['hidden_ly2']],\n",
    "                                  config['activation'], len(CLASS_NAMES))\n",
    "    \"\"\"\n",
    "    \n",
    "    model = build_finetune_model(model, \n",
    "                                 [config['dropout'], config['dropout']], \n",
    "                                 [config['hidden'], config['hidden']],\n",
    "                                  config['activation'], len(CLASS_NAMES))\n",
    "    \n",
    "    # configure the early stop callback\n",
    "    earlystop = tf.keras.callbacks.EarlyStopping(monitor='loss', mode='min', verbose=1)\n",
    "    \n",
    "    # setup the optimizer\n",
    "    if config['optimizer'] == \"adam\":\n",
    "        opt = tf.keras.optimizers.Adam(learning_rate=config['learning_rate'])\n",
    "    elif config['optimizer'] == \"rmsprop\":\n",
    "        opt = tf.keras.optimizers.RMSprop(learning_rate=config['learning_rate'])\n",
    "    elif config['optimizer'] == \"sgd\":\n",
    "        opt = tf.keras.optimizers.SGD(learning_rate=config['learning_rate'])\n",
    "    \n",
    "    # compile the model\n",
    "    model.compile(optimizer=opt,loss='categorical_crossentropy', metrics=['accuracy'])\n",
    "\n",
    "    # begin training callbacks.WandbBatchHistory()\n",
    "    model.fit(train_ds, epochs=config['epochs'], callbacks=[earlystop, wandb.keras.WandbCallback()],\n",
    "              steps_per_epoch=STEPS_PER_EPOCH, validation_data=validation_ds, validation_steps=VALIDATION_STEPS_PER_EPOCH)\n",
    "    \n",
    "    # batch_size=wandb.config['batch_size']"
   ]
  },
  {
   "cell_type": "markdown",
   "metadata": {},
   "source": [
    "## Test the train function"
   ]
  },
  {
   "cell_type": "code",
   "execution_count": null,
   "metadata": {},
   "outputs": [],
   "source": [
    "train()"
   ]
  },
  {
   "cell_type": "markdown",
   "metadata": {},
   "source": [
    "## Sweep the Model"
   ]
  },
  {
   "cell_type": "raw",
   "metadata": {},
   "source": [
    "wandb.agent(sweep_id, train)"
   ]
  },
  {
   "cell_type": "markdown",
   "metadata": {},
   "source": [
    "## Grid Search from Scratch"
   ]
  },
  {
   "cell_type": "code",
   "execution_count": 83,
   "metadata": {},
   "outputs": [],
   "source": [
    "def gridSearch(config):\n",
    "\n",
    "    keys, values = zip(*config.items())\n",
    "    \n",
    "    total = 1\n",
    "    for v in values:\n",
    "        total *= len(v)\n",
    "    \n",
    "    with tqdm(total=total) as pbar:\n",
    "        for bundle in tqdm(product(*values)):\n",
    "            pbar.update(1)\n",
    "            d = dict(zip(keys, bundle))\n",
    "            train(config=d, group=\"Grid Search\")\n",
    "    \n",
    "    return 'Grid Search Complete'"
   ]
  },
  {
   "cell_type": "code",
   "execution_count": 86,
   "metadata": {},
   "outputs": [],
   "source": [
    "my_config = {\n",
    "        \"learning_rate\" : [1e-2, 1e-3, 1e-4],\n",
    "        \"epochs\" : [10],\n",
    "        \"hidden\" : [256, 512, 1024],\n",
    "        \"dropout\" : [0.5],\n",
    "        \"optimizer\" : [\"adam\", \"sgd\"],\n",
    "        \"activation\" : [\"relu\", \"tanh\"],\n",
    "        \"model\" : [\"ResNet\", \"VGG\"]\n",
    "    }"
   ]
  },
  {
   "cell_type": "code",
   "execution_count": null,
   "metadata": {},
   "outputs": [
    {
     "data": {
      "application/vnd.jupyter.widget-view+json": {
       "model_id": "b4ef5ee18684424a88c9bf41c357f6b9",
       "version_major": 2,
       "version_minor": 0
      },
      "text/plain": [
       "HBox(children=(FloatProgress(value=0.0, max=72.0), HTML(value='')))"
      ]
     },
     "metadata": {},
     "output_type": "display_data"
    },
    {
     "data": {
      "application/vnd.jupyter.widget-view+json": {
       "model_id": "d3bbc40896374aee9fac55f9034f41be",
       "version_major": 2,
       "version_minor": 0
      },
      "text/plain": [
       "HBox(children=(FloatProgress(value=1.0, bar_style='info', max=1.0), HTML(value='')))"
      ]
     },
     "metadata": {},
     "output_type": "display_data"
    },
    {
     "data": {
      "text/html": [
       "\n",
       "                Logging results to <a href=\"https://wandb.com\" target=\"_blank\">Weights & Biases</a> <a href=\"https://docs.wandb.com/integrations/jupyter.html\" target=\"_blank\">(Documentation)</a>.<br/>\n",
       "                Project page: <a href=\"https://app.wandb.ai/rosenblatt/satellite-model-and-orientation\" target=\"_blank\">https://app.wandb.ai/rosenblatt/satellite-model-and-orientation</a><br/>\n",
       "                Run page: <a href=\"https://app.wandb.ai/rosenblatt/satellite-model-and-orientation/runs/1nnoqs96\" target=\"_blank\">https://app.wandb.ai/rosenblatt/satellite-model-and-orientation/runs/1nnoqs96</a><br/>\n",
       "            "
      ],
      "text/plain": [
       "<IPython.core.display.HTML object>"
      ]
     },
     "metadata": {},
     "output_type": "display_data"
    },
    {
     "name": "stdout",
     "output_type": "stream",
     "text": [
      "Train for 350 steps, validate for 88 steps\n",
      "Epoch 1/10\n",
      "350/350 [==============================] - 241s 688ms/step - loss: 4.3148 - accuracy: 0.2252 - val_loss: 2.0019 - val_accuracy: 0.1470\n",
      "Epoch 2/10\n",
      "350/350 [==============================] - 230s 657ms/step - loss: 1.8664 - accuracy: 0.2509 - val_loss: 1.7413 - val_accuracy: 0.2777\n",
      "Epoch 3/10\n",
      "350/350 [==============================] - 230s 658ms/step - loss: 1.6997 - accuracy: 0.2904 - val_loss: 1.6296 - val_accuracy: 0.2862\n",
      "Epoch 4/10\n",
      "350/350 [==============================] - 225s 644ms/step - loss: 1.6641 - accuracy: 0.3082 - val_loss: 1.7697 - val_accuracy: 0.3338\n",
      "Epoch 5/10\n",
      "350/350 [==============================] - 225s 643ms/step - loss: 1.6326 - accuracy: 0.3057 - val_loss: 1.7611 - val_accuracy: 0.2791\n",
      "Epoch 6/10\n",
      "350/350 [==============================] - 227s 647ms/step - loss: 1.5192 - accuracy: 0.3380 - val_loss: 1.5260 - val_accuracy: 0.3537\n",
      "Epoch 7/10\n",
      "350/350 [==============================] - 219s 625ms/step - loss: 1.5135 - accuracy: 0.3570 - val_loss: 4.8295 - val_accuracy: 0.2443\n",
      "Epoch 8/10\n",
      "350/350 [==============================] - 229s 653ms/step - loss: 1.6055 - accuracy: 0.3386 - val_loss: 1.3513 - val_accuracy: 0.4411\n",
      "Epoch 00008: early stopping\n"
     ]
    },
    {
     "data": {
      "text/html": [
       "\n",
       "                Logging results to <a href=\"https://wandb.com\" target=\"_blank\">Weights & Biases</a> <a href=\"https://docs.wandb.com/integrations/jupyter.html\" target=\"_blank\">(Documentation)</a>.<br/>\n",
       "                Project page: <a href=\"https://app.wandb.ai/rosenblatt/satellite-model-and-orientation\" target=\"_blank\">https://app.wandb.ai/rosenblatt/satellite-model-and-orientation</a><br/>\n",
       "                Run page: <a href=\"https://app.wandb.ai/rosenblatt/satellite-model-and-orientation/runs/m1cnqq4v\" target=\"_blank\">https://app.wandb.ai/rosenblatt/satellite-model-and-orientation/runs/m1cnqq4v</a><br/>\n",
       "            "
      ],
      "text/plain": [
       "<IPython.core.display.HTML object>"
      ]
     },
     "metadata": {},
     "output_type": "display_data"
    },
    {
     "name": "stdout",
     "output_type": "stream",
     "text": [
      "Train for 350 steps, validate for 88 steps\n",
      "Epoch 1/10\n",
      "349/350 [============================>.] - ETA: 0s - loss: 4.9929 - accuracy: 0.2423"
     ]
    }
   ],
   "source": [
    "gridSearch(my_config)"
   ]
  },
  {
   "cell_type": "markdown",
   "metadata": {},
   "source": [
    "## Demo the Final Model\n",
    "NOTE: best_model_path needs to be assigned programatically, val_ds generator being used here"
   ]
  },
  {
   "cell_type": "code",
   "execution_count": 12,
   "metadata": {},
   "outputs": [],
   "source": [
    "best_model_path = 'wandb/run-20200504_022746-tzla9y6v/model-best.h5'\n",
    "best_model = tf.keras.models.load_model(best_model_path)"
   ]
  },
  {
   "cell_type": "markdown",
   "metadata": {},
   "source": [
    "### Prediction Demo"
   ]
  },
  {
   "cell_type": "code",
   "execution_count": 13,
   "metadata": {},
   "outputs": [],
   "source": [
    "def prediction_demo(model, image_batch, label_batch):\n",
    "    \n",
    "    predictions = model.predict(image_batch, verbose=1)\n",
    "\n",
    "    plt.figure(figsize=(10,10))\n",
    "    \n",
    "    for n in range(16):\n",
    "        ax = plt.subplot(4,4,n+1)\n",
    "        plt.imshow(image_batch[n])\n",
    "        plt.title('Truth: ' + tf.boolean_mask(CLASS_NAMES, label_batch[n])[0].numpy().decode() +\n",
    "                  '\\nPrediction: ' + CLASS_NAMES[np.argmax(predictions[n])] +\n",
    "                  '\\nConfidence: ' + str(round(np.max(predictions[n]*100),1)) + '%'\n",
    "                 )\n",
    "\n",
    "        plt.axis('off')\n",
    "\n",
    "    plt.subplots_adjust(top=1.2, right = 1.0)"
   ]
  },
  {
   "cell_type": "markdown",
   "metadata": {},
   "source": [
    "### Display Demo"
   ]
  },
  {
   "cell_type": "code",
   "execution_count": 14,
   "metadata": {},
   "outputs": [],
   "source": [
    "demo_image_batch, demo_label_batch = next(iter(validation_ds))"
   ]
  },
  {
   "cell_type": "code",
   "execution_count": 15,
   "metadata": {},
   "outputs": [
    {
     "name": "stdout",
     "output_type": "stream",
     "text": [
      "16/16 [==============================] - 6s 381ms/sample\n"
     ]
    },
    {
     "data": {
      "image/png": "[encoded data removed]",
      "text/plain": [
       "<Figure size 720x720 with 16 Axes>"
      ]
     },
     "metadata": {
      "needs_background": "light"
     },
     "output_type": "display_data"
    }
   ],
   "source": [
    "prediction_demo(best_model, demo_image_batch, demo_label_batch)"
   ]
  },
  {
   "cell_type": "markdown",
   "metadata": {},
   "source": [
    "## Evaluate the Final Model\n",
    "Add Confussion Matrix, Calculate F1-Score stuff and log all of it to wandb:\n",
    "https://docs.wandb.com/library/log\n",
    "\n",
    "## DO NOT RUN YET "
   ]
  },
  {
   "cell_type": "code",
   "execution_count": 48,
   "metadata": {},
   "outputs": [
    {
     "name": "stdout",
     "output_type": "stream",
     "text": [
      "88/88 [==============================] - 100s 1s/step\n"
     ]
    }
   ],
   "source": [
    "preds = best_model.predict(validation_ds, verbose=1, steps=VALIDATION_STEPS_PER_EPOCH)\n",
    "validation_ds_np = validation_ds.as_numpy_iterator()"
   ]
  },
  {
   "cell_type": "code",
   "execution_count": 57,
   "metadata": {},
   "outputs": [],
   "source": [
    "predictions = np.argmax(preds, axis=1)"
   ]
  },
  {
   "cell_type": "code",
   "execution_count": 58,
   "metadata": {},
   "outputs": [
    {
     "data": {
      "text/plain": [
       "(1408,)"
      ]
     },
     "execution_count": 58,
     "metadata": {},
     "output_type": "execute_result"
    }
   ],
   "source": [
    "predictions.shape"
   ]
  },
  {
   "cell_type": "code",
   "execution_count": null,
   "metadata": {},
   "outputs": [],
   "source": [
    "predictions[-1]"
   ]
  },
  {
   "cell_type": "code",
   "execution_count": 64,
   "metadata": {},
   "outputs": [],
   "source": [
    "a = next(validation_ds_np)"
   ]
  },
  {
   "cell_type": "code",
   "execution_count": 67,
   "metadata": {},
   "outputs": [
    {
     "data": {
      "text/plain": [
       "((16, 224, 224, 3), (16, 7))"
      ]
     },
     "execution_count": 67,
     "metadata": {},
     "output_type": "execute_result"
    }
   ],
   "source": [
    "a[0].shape, a[1].shape"
   ]
  },
  {
   "cell_type": "code",
   "execution_count": null,
   "metadata": {},
   "outputs": [
    {
     "data": {
      "application/vnd.jupyter.widget-view+json": {
       "model_id": "b6925504ea2743a5a0ac87f22fbf31e9",
       "version_major": 2,
       "version_minor": 0
      },
      "text/plain": [
       "HBox(children=(FloatProgress(value=0.0, max=1400.0), HTML(value='')))"
      ]
     },
     "metadata": {},
     "output_type": "display_data"
    }
   ],
   "source": [
    "from tqdm.notebook import tqdm, trange\n",
    "\n",
    "val_truth = []\n",
    "for elm in trange(VALIDATION_DS_SIZE):\n",
    "    val_truth.append(next(validation_ds_np))"
   ]
  },
  {
   "cell_type": "code",
   "execution_count": 56,
   "metadata": {},
   "outputs": [
    {
     "ename": "KeyboardInterrupt",
     "evalue": "",
     "output_type": "error",
     "traceback": [
      "\u001b[0;31m---------------------------------------------------------------------------\u001b[0m",
      "\u001b[0;31mKeyboardInterrupt\u001b[0m                         Traceback (most recent call last)",
      "\u001b[0;32m<ipython-input-56-d1dbbabc950f>\u001b[0m in \u001b[0;36m<module>\u001b[0;34m\u001b[0m\n\u001b[1;32m      1\u001b[0m \u001b[0mpredictions\u001b[0m \u001b[0;34m=\u001b[0m \u001b[0mnp\u001b[0m\u001b[0;34m.\u001b[0m\u001b[0margmax\u001b[0m\u001b[0;34m(\u001b[0m\u001b[0mpreds\u001b[0m\u001b[0;34m,\u001b[0m \u001b[0maxis\u001b[0m\u001b[0;34m=\u001b[0m\u001b[0;36m1\u001b[0m\u001b[0;34m)\u001b[0m\u001b[0;34m\u001b[0m\u001b[0m\n\u001b[1;32m      2\u001b[0m \u001b[0;34m\u001b[0m\u001b[0m\n\u001b[0;32m----> 3\u001b[0;31m \u001b[0mval_truth\u001b[0m \u001b[0;34m=\u001b[0m \u001b[0;34m[\u001b[0m\u001b[0melm\u001b[0m\u001b[0;34m[\u001b[0m\u001b[0;36m1\u001b[0m\u001b[0;34m]\u001b[0m \u001b[0;32mfor\u001b[0m \u001b[0melm\u001b[0m \u001b[0;32min\u001b[0m \u001b[0mvalidation_ds_np\u001b[0m\u001b[0;34m]\u001b[0m\u001b[0;34m\u001b[0m\u001b[0m\n\u001b[0m\u001b[1;32m      4\u001b[0m \u001b[0;34m\u001b[0m\u001b[0m\n\u001b[1;32m      5\u001b[0m \u001b[0;31m## probably doable in one loop or without loops\u001b[0m\u001b[0;34m\u001b[0m\u001b[0;34m\u001b[0m\u001b[0m\n",
      "\u001b[0;32m<ipython-input-56-d1dbbabc950f>\u001b[0m in \u001b[0;36m<listcomp>\u001b[0;34m(.0)\u001b[0m\n\u001b[1;32m      1\u001b[0m \u001b[0mpredictions\u001b[0m \u001b[0;34m=\u001b[0m \u001b[0mnp\u001b[0m\u001b[0;34m.\u001b[0m\u001b[0margmax\u001b[0m\u001b[0;34m(\u001b[0m\u001b[0mpreds\u001b[0m\u001b[0;34m,\u001b[0m \u001b[0maxis\u001b[0m\u001b[0;34m=\u001b[0m\u001b[0;36m1\u001b[0m\u001b[0;34m)\u001b[0m\u001b[0;34m\u001b[0m\u001b[0m\n\u001b[1;32m      2\u001b[0m \u001b[0;34m\u001b[0m\u001b[0m\n\u001b[0;32m----> 3\u001b[0;31m \u001b[0mval_truth\u001b[0m \u001b[0;34m=\u001b[0m \u001b[0;34m[\u001b[0m\u001b[0melm\u001b[0m\u001b[0;34m[\u001b[0m\u001b[0;36m1\u001b[0m\u001b[0;34m]\u001b[0m \u001b[0;32mfor\u001b[0m \u001b[0melm\u001b[0m \u001b[0;32min\u001b[0m \u001b[0mvalidation_ds_np\u001b[0m\u001b[0;34m]\u001b[0m\u001b[0;34m\u001b[0m\u001b[0m\n\u001b[0m\u001b[1;32m      4\u001b[0m \u001b[0;34m\u001b[0m\u001b[0m\n\u001b[1;32m      5\u001b[0m \u001b[0;31m## probably doable in one loop or without loops\u001b[0m\u001b[0;34m\u001b[0m\u001b[0;34m\u001b[0m\u001b[0m\n",
      "\u001b[0;32m~/.local/lib/python3.5/site-packages/tensorflow_core/python/data/ops/dataset_ops.py\u001b[0m in \u001b[0;36m__next__\u001b[0;34m(self)\u001b[0m\n\u001b[1;32m   3640\u001b[0m \u001b[0;34m\u001b[0m\u001b[0m\n\u001b[1;32m   3641\u001b[0m   \u001b[0;32mdef\u001b[0m \u001b[0m__next__\u001b[0m\u001b[0;34m(\u001b[0m\u001b[0mself\u001b[0m\u001b[0;34m)\u001b[0m\u001b[0;34m:\u001b[0m\u001b[0;34m\u001b[0m\u001b[0m\n\u001b[0;32m-> 3642\u001b[0;31m     \u001b[0;32mreturn\u001b[0m \u001b[0mself\u001b[0m\u001b[0;34m.\u001b[0m\u001b[0mnext\u001b[0m\u001b[0;34m(\u001b[0m\u001b[0;34m)\u001b[0m\u001b[0;34m\u001b[0m\u001b[0m\n\u001b[0m\u001b[1;32m   3643\u001b[0m \u001b[0;34m\u001b[0m\u001b[0m\n\u001b[1;32m   3644\u001b[0m \u001b[0;34m\u001b[0m\u001b[0m\n",
      "\u001b[0;32m~/.local/lib/python3.5/site-packages/tensorflow_core/python/data/ops/dataset_ops.py\u001b[0m in \u001b[0;36mnext\u001b[0;34m(self)\u001b[0m\n\u001b[1;32m   3637\u001b[0m \u001b[0;34m\u001b[0m\u001b[0m\n\u001b[1;32m   3638\u001b[0m   \u001b[0;32mdef\u001b[0m \u001b[0mnext\u001b[0m\u001b[0;34m(\u001b[0m\u001b[0mself\u001b[0m\u001b[0;34m)\u001b[0m\u001b[0;34m:\u001b[0m\u001b[0;34m\u001b[0m\u001b[0m\n\u001b[0;32m-> 3639\u001b[0;31m     \u001b[0;32mreturn\u001b[0m \u001b[0mnest\u001b[0m\u001b[0;34m.\u001b[0m\u001b[0mmap_structure\u001b[0m\u001b[0;34m(\u001b[0m\u001b[0;32mlambda\u001b[0m \u001b[0mx\u001b[0m\u001b[0;34m:\u001b[0m \u001b[0mx\u001b[0m\u001b[0;34m.\u001b[0m\u001b[0mnumpy\u001b[0m\u001b[0;34m(\u001b[0m\u001b[0;34m)\u001b[0m\u001b[0;34m,\u001b[0m \u001b[0mnext\u001b[0m\u001b[0;34m(\u001b[0m\u001b[0mself\u001b[0m\u001b[0;34m.\u001b[0m\u001b[0m_iterator\u001b[0m\u001b[0;34m)\u001b[0m\u001b[0;34m)\u001b[0m\u001b[0;34m\u001b[0m\u001b[0m\n\u001b[0m\u001b[1;32m   3640\u001b[0m \u001b[0;34m\u001b[0m\u001b[0m\n\u001b[1;32m   3641\u001b[0m   \u001b[0;32mdef\u001b[0m \u001b[0m__next__\u001b[0m\u001b[0;34m(\u001b[0m\u001b[0mself\u001b[0m\u001b[0;34m)\u001b[0m\u001b[0;34m:\u001b[0m\u001b[0;34m\u001b[0m\u001b[0m\n",
      "\u001b[0;32m~/.local/lib/python3.5/site-packages/tensorflow_core/python/data/ops/iterator_ops.py\u001b[0m in \u001b[0;36m__next__\u001b[0;34m(self)\u001b[0m\n\u001b[1;32m    628\u001b[0m \u001b[0;34m\u001b[0m\u001b[0m\n\u001b[1;32m    629\u001b[0m   \u001b[0;32mdef\u001b[0m \u001b[0m__next__\u001b[0m\u001b[0;34m(\u001b[0m\u001b[0mself\u001b[0m\u001b[0;34m)\u001b[0m\u001b[0;34m:\u001b[0m  \u001b[0;31m# For Python 3 compatibility\u001b[0m\u001b[0;34m\u001b[0m\u001b[0m\n\u001b[0;32m--> 630\u001b[0;31m     \u001b[0;32mreturn\u001b[0m \u001b[0mself\u001b[0m\u001b[0;34m.\u001b[0m\u001b[0mnext\u001b[0m\u001b[0;34m(\u001b[0m\u001b[0;34m)\u001b[0m\u001b[0;34m\u001b[0m\u001b[0m\n\u001b[0m\u001b[1;32m    631\u001b[0m \u001b[0;34m\u001b[0m\u001b[0m\n\u001b[1;32m    632\u001b[0m   \u001b[0;32mdef\u001b[0m \u001b[0m_next_internal\u001b[0m\u001b[0;34m(\u001b[0m\u001b[0mself\u001b[0m\u001b[0;34m)\u001b[0m\u001b[0;34m:\u001b[0m\u001b[0;34m\u001b[0m\u001b[0m\n",
      "\u001b[0;32m~/.local/lib/python3.5/site-packages/tensorflow_core/python/data/ops/iterator_ops.py\u001b[0m in \u001b[0;36mnext\u001b[0;34m(self)\u001b[0m\n\u001b[1;32m    672\u001b[0m     \u001b[0;34m\"\"\"Returns a nested structure of `Tensor`s containing the next element.\"\"\"\u001b[0m\u001b[0;34m\u001b[0m\u001b[0m\n\u001b[1;32m    673\u001b[0m     \u001b[0;32mtry\u001b[0m\u001b[0;34m:\u001b[0m\u001b[0;34m\u001b[0m\u001b[0m\n\u001b[0;32m--> 674\u001b[0;31m       \u001b[0;32mreturn\u001b[0m \u001b[0mself\u001b[0m\u001b[0;34m.\u001b[0m\u001b[0m_next_internal\u001b[0m\u001b[0;34m(\u001b[0m\u001b[0;34m)\u001b[0m\u001b[0;34m\u001b[0m\u001b[0m\n\u001b[0m\u001b[1;32m    675\u001b[0m     \u001b[0;32mexcept\u001b[0m \u001b[0merrors\u001b[0m\u001b[0;34m.\u001b[0m\u001b[0mOutOfRangeError\u001b[0m\u001b[0;34m:\u001b[0m\u001b[0;34m\u001b[0m\u001b[0m\n\u001b[1;32m    676\u001b[0m       \u001b[0;32mraise\u001b[0m \u001b[0mStopIteration\u001b[0m\u001b[0;34m\u001b[0m\u001b[0m\n",
      "\u001b[0;32m~/.local/lib/python3.5/site-packages/tensorflow_core/python/data/ops/iterator_ops.py\u001b[0m in \u001b[0;36m_next_internal\u001b[0;34m(self)\u001b[0m\n\u001b[1;32m    657\u001b[0m             \u001b[0mself\u001b[0m\u001b[0;34m.\u001b[0m\u001b[0m_iterator_resource\u001b[0m\u001b[0;34m,\u001b[0m\u001b[0;34m\u001b[0m\u001b[0m\n\u001b[1;32m    658\u001b[0m             \u001b[0moutput_types\u001b[0m\u001b[0;34m=\u001b[0m\u001b[0mself\u001b[0m\u001b[0;34m.\u001b[0m\u001b[0m_flat_output_types\u001b[0m\u001b[0;34m,\u001b[0m\u001b[0;34m\u001b[0m\u001b[0m\n\u001b[0;32m--> 659\u001b[0;31m             output_shapes=self._flat_output_shapes)\n\u001b[0m\u001b[1;32m    660\u001b[0m \u001b[0;34m\u001b[0m\u001b[0m\n\u001b[1;32m    661\u001b[0m       \u001b[0;32mtry\u001b[0m\u001b[0;34m:\u001b[0m\u001b[0;34m\u001b[0m\u001b[0m\n",
      "\u001b[0;32m~/.local/lib/python3.5/site-packages/tensorflow_core/python/ops/gen_dataset_ops.py\u001b[0m in \u001b[0;36miterator_get_next_sync\u001b[0;34m(iterator, output_types, output_shapes, name)\u001b[0m\n\u001b[1;32m   2467\u001b[0m         \u001b[0m_ctx\u001b[0m\u001b[0;34m.\u001b[0m\u001b[0m_context_handle\u001b[0m\u001b[0;34m,\u001b[0m \u001b[0mtld\u001b[0m\u001b[0;34m.\u001b[0m\u001b[0mdevice_name\u001b[0m\u001b[0;34m,\u001b[0m \u001b[0;34m\"IteratorGetNextSync\"\u001b[0m\u001b[0;34m,\u001b[0m \u001b[0mname\u001b[0m\u001b[0;34m,\u001b[0m\u001b[0;34m\u001b[0m\u001b[0m\n\u001b[1;32m   2468\u001b[0m         \u001b[0mtld\u001b[0m\u001b[0;34m.\u001b[0m\u001b[0mop_callbacks\u001b[0m\u001b[0;34m,\u001b[0m \u001b[0miterator\u001b[0m\u001b[0;34m,\u001b[0m \u001b[0;34m\"output_types\"\u001b[0m\u001b[0;34m,\u001b[0m \u001b[0moutput_types\u001b[0m\u001b[0;34m,\u001b[0m\u001b[0;34m\u001b[0m\u001b[0m\n\u001b[0;32m-> 2469\u001b[0;31m         \"output_shapes\", output_shapes)\n\u001b[0m\u001b[1;32m   2470\u001b[0m       \u001b[0;32mreturn\u001b[0m \u001b[0m_result\u001b[0m\u001b[0;34m\u001b[0m\u001b[0m\n\u001b[1;32m   2471\u001b[0m     \u001b[0;32mexcept\u001b[0m \u001b[0m_core\u001b[0m\u001b[0;34m.\u001b[0m\u001b[0m_FallbackException\u001b[0m\u001b[0;34m:\u001b[0m\u001b[0;34m\u001b[0m\u001b[0m\n",
      "\u001b[0;31mKeyboardInterrupt\u001b[0m: "
     ]
    }
   ],
   "source": [
    "## probably doable in one loop or without loops\n",
    "labels = [tf.boolean_mask(CLASS_NAMES, t)[0].numpy().decode() for t in val_truth]\n",
    "y_val = [np.argmax(t) for t in val_truth]\n",
    "\n",
    "confusion_mat = confusion_matrix(y_val, predictions)\n",
    "classification_rep = classification_report(y_val, predictions, target_names=labels, output_dict=True)"
   ]
  },
  {
   "cell_type": "code",
   "execution_count": null,
   "metadata": {},
   "outputs": [],
   "source": []
  }
 ],
 "metadata": {
  "kernelspec": {
   "display_name": "conda_amazonei_tensorflow_p36",
   "language": "python",
   "name": "conda_amazonei_tensorflow_p36"
  },
  "language_info": {
   "codemirror_mode": {
    "name": "ipython",
    "version": 3
   },
   "file_extension": ".py",
   "mimetype": "text/x-python",
   "name": "python",
   "nbconvert_exporter": "python",
   "pygments_lexer": "ipython3",
   "version": "3.6.6"
  }
 },
 "nbformat": 4,
 "nbformat_minor": 4
}
